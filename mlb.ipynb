{
 "cells": [
  {
   "cell_type": "code",
   "execution_count": 39,
   "metadata": {},
   "outputs": [],
   "source": [
    "import requests\n",
    "import pandas as pd"
   ]
  },
  {
   "cell_type": "code",
   "execution_count": 40,
   "metadata": {},
   "outputs": [],
   "source": [
    "def fetch_mlb_batter_stats(season, league_id, limit=1000):\n",
    "    # API endpoint to get the list of players\n",
    "    url = \"https://statsapi.mlb.com/api/v1/stats\"\n",
    "\n",
    "    # Define the parameters for the API call\n",
    "    params = {\n",
    "        \"stats\": \"season\",           # 통계 유형\n",
    "        \"group\": \"hitting\",          # 타격 통계\n",
    "        \"season\": season,            # 시즌 연도\n",
    "        \"leagueId\": league_id,       # 리그 (103 - AL, 104 - NL)\n",
    "        \"gameType\": \"R\",             # 정규 시즌\n",
    "        \"limit\": limit               # 가져올 선수 수의 제한 설정\n",
    "    }\n",
    "\n",
    "    # Make the API request\n",
    "    response = requests.get(url, params=params)\n",
    "\n",
    "    # Check if the request was successful\n",
    "    if response.status_code != 200:\n",
    "        print(f\"Error response: {response.text}\")  # Print the response text for debugging\n",
    "        raise Exception(f\"API request failed with status code {response.status_code}\")\n",
    "\n",
    "    # Parse the JSON response\n",
    "    data = response.json()\n",
    "\n",
    "    # Extract player stats\n",
    "    player_stats = data['stats'][0]['splits']\n",
    "\n",
    "    # Create a list of dictionaries with player stats\n",
    "    players = []\n",
    "    for player in player_stats:\n",
    "        player_info = {\n",
    "            \"Season\": season,                 # 시즌 정보 추가\n",
    "            \"PlayerID\": player['player']['id'],\n",
    "            \"PlayerName\": player['player']['fullName'],\n",
    "            \"Team\": player['team']['name'],\n",
    "            \"GamesPlayed\": player['stat']['gamesPlayed'],\n",
    "            \"AtBats\": player['stat']['atBats'],\n",
    "            \"Runs\": player['stat']['runs'],\n",
    "            \"Hits\": player['stat']['hits'],\n",
    "            \"HomeRuns\": player['stat']['homeRuns'],\n",
    "            \"RBIs\": player['stat']['rbi'],\n",
    "            \"StolenBases\": player['stat']['stolenBases'],\n",
    "            \"Walks\": player['stat']['baseOnBalls'],\n",
    "            \"StrikeOuts\": player['stat']['strikeOuts'],\n",
    "            \"BattingAverage\": player['stat']['avg'],\n",
    "            \"OnBasePercentage\": player['stat']['obp'],\n",
    "            \"SluggingPercentage\": player['stat']['slg'],\n",
    "            \"OPS\": player['stat']['ops']\n",
    "        }\n",
    "        players.append(player_info)\n",
    "\n",
    "    # Convert the list of dictionaries to a DataFrame\n",
    "    return pd.DataFrame(players)"
   ]
  },
  {
   "cell_type": "code",
   "execution_count": 41,
   "metadata": {},
   "outputs": [
    {
     "name": "stdout",
     "output_type": "stream",
     "text": [
      "Data for season 2000 fetched successfully.\n",
      "Data for season 2001 fetched successfully.\n",
      "Data for season 2002 fetched successfully.\n",
      "Data for season 2003 fetched successfully.\n",
      "Data for season 2004 fetched successfully.\n",
      "Data for season 2005 fetched successfully.\n",
      "Data for season 2006 fetched successfully.\n",
      "Data for season 2007 fetched successfully.\n",
      "Data for season 2008 fetched successfully.\n",
      "Data for season 2009 fetched successfully.\n",
      "Data for season 2010 fetched successfully.\n",
      "Data for season 2011 fetched successfully.\n",
      "Data for season 2012 fetched successfully.\n",
      "Data for season 2013 fetched successfully.\n",
      "Data for season 2014 fetched successfully.\n",
      "Data for season 2015 fetched successfully.\n",
      "Data for season 2016 fetched successfully.\n",
      "Data for season 2017 fetched successfully.\n",
      "Data for season 2018 fetched successfully.\n",
      "Data for season 2019 fetched successfully.\n",
      "Data for season 2020 fetched successfully.\n",
      "Data for season 2021 fetched successfully.\n",
      "Data for season 2022 fetched successfully.\n",
      "Data for season 2023 fetched successfully.\n"
     ]
    }
   ],
   "source": [
    "# Initialize an empty DataFrame to hold all data\n",
    "all_seasons_df = pd.DataFrame()\n",
    "\n",
    "# Loop through each season from 2000 to 2023\n",
    "for season in range(2000, 2023 + 1):\n",
    "    try:\n",
    "        # Fetch data for both leagues and combine\n",
    "        al_batter_stats_df = fetch_mlb_batter_stats(season, 103, limit=1000)\n",
    "        nl_batter_stats_df = fetch_mlb_batter_stats(season, 104, limit=1000)\n",
    "        season_stats_df = pd.concat([al_batter_stats_df, nl_batter_stats_df], ignore_index=True)\n",
    "        \n",
    "        # Append the season data to the all_seasons_df\n",
    "        all_seasons_df = pd.concat([all_seasons_df, season_stats_df], ignore_index=True)\n",
    "        print(f\"Data for season {season} fetched successfully.\")\n",
    "    except Exception as e:\n",
    "        print(f\"Failed to fetch data for season {season}: {e}\")"
   ]
  },
  {
   "cell_type": "code",
   "execution_count": 42,
   "metadata": {},
   "outputs": [
    {
     "name": "stdout",
     "output_type": "stream",
     "text": [
      "   Season  PlayerID         PlayerName               Team  GamesPlayed  \\\n",
      "0    2000    114596  Nomar Garciaparra     Boston Red Sox          140   \n",
      "1    2000    113889       Darin Erstad     Anaheim Angels          157   \n",
      "2    2000    120903      Manny Ramirez  Cleveland Indians          118   \n",
      "3    2000    113232     Carlos Delgado  Toronto Blue Jays          162   \n",
      "4    2000    116539        Derek Jeter   New York Yankees          148   \n",
      "\n",
      "   AtBats  Runs  Hits  HomeRuns  RBIs  StolenBases  Walks  StrikeOuts  \\\n",
      "0     529   104   197        21    96            5     61          50   \n",
      "1     676   121   240        25   100           28     64          82   \n",
      "2     439    92   154        38   122            1     86         117   \n",
      "3     569   115   196        41   137            0    123         104   \n",
      "4     593   119   201        15    73           22     68          99   \n",
      "\n",
      "  BattingAverage OnBasePercentage SluggingPercentage    OPS  \n",
      "0           .372             .434               .599  1.033  \n",
      "1           .355             .409               .541   .950  \n",
      "2           .351             .457               .697  1.154  \n",
      "3           .344             .470               .664  1.134  \n",
      "4           .339             .416               .481   .897  \n",
      "Total players from 2000 to 2023: 3439\n"
     ]
    }
   ],
   "source": [
    "# Display the final DataFrame\n",
    "print(all_seasons_df.head())\n",
    "print(f\"Total players from 2000 to 2023: {len(all_seasons_df)}\")\n",
    "\n",
    "# Save the DataFrame to a CSV file for further use\n",
    "all_seasons_df.to_csv(\"mlb_batter_stats_2000_2023.csv\", index=False)"
   ]
  }
 ],
 "metadata": {
  "kernelspec": {
   "display_name": "base",
   "language": "python",
   "name": "python3"
  },
  "language_info": {
   "codemirror_mode": {
    "name": "ipython",
    "version": 3
   },
   "file_extension": ".py",
   "mimetype": "text/x-python",
   "name": "python",
   "nbconvert_exporter": "python",
   "pygments_lexer": "ipython3",
   "version": "3.11.7"
  }
 },
 "nbformat": 4,
 "nbformat_minor": 2
}
